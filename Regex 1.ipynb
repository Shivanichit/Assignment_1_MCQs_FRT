{
 "cells": [
  {
   "cell_type": "code",
   "execution_count": 4,
   "id": "ab9cf132",
   "metadata": {},
   "outputs": [],
   "source": [
    "import re"
   ]
  },
  {
   "cell_type": "code",
   "execution_count": 5,
   "id": "956a9e67",
   "metadata": {},
   "outputs": [
    {
     "name": "stdout",
     "output_type": "stream",
     "text": [
      "The string contains only the specified characters.\n",
      "The string contains characters other than a-z, A-Z, and 0-9.\n"
     ]
    }
   ],
   "source": [
    "def check_string(string):\n",
    "    pattern = re.compile(r'^[a-zA-Z0-9]+$')\n",
    "    if pattern.match(string):\n",
    "        print(\"The string contains only the specified characters.\")\n",
    "    else:\n",
    "        print(\"The string contains characters other than a-z, A-Z, and 0-9.\")\n",
    "check_string(\"abc123\")\n",
    "check_string(\"abc!23\")\n"
   ]
  },
  {
   "cell_type": "code",
   "execution_count": 6,
   "id": "0f082250",
   "metadata": {},
   "outputs": [
    {
     "name": "stdout",
     "output_type": "stream",
     "text": [
      "Match found: The string has an 'a' followed by zero or more 'b's.\n",
      "No match found: The string does not meet the criteria.\n",
      "Match found: The string has an 'a' followed by zero or more 'b's.\n"
     ]
    }
   ],
   "source": [
    "def match_a_followed_by_b(string):\n",
    "    pattern = r'a*b'\n",
    "    match = re.search(pattern, string)\n",
    "    if match:\n",
    "        print(\"Match found: The string has an 'a' followed by zero or more 'b's.\")\n",
    "    else:\n",
    "        print(\"No match found: The string does not meet the criteria.\")\n",
    "match_a_followed_by_b(\"ab\")\n",
    "match_a_followed_by_b(\"ac\")\n",
    "match_a_followed_by_b(\"abb\")"
   ]
  },
  {
   "cell_type": "code",
   "execution_count": 7,
   "id": "1ce14616",
   "metadata": {},
   "outputs": [
    {
     "name": "stdout",
     "output_type": "stream",
     "text": [
      "Match found: The string has an 'a' followed by one or more 'b's.\n",
      "No match found: The string does not meet the criteria.\n",
      "Match found: The string has an 'a' followed by one or more 'b's.\n",
      "Match found: The string has an 'a' followed by one or more 'b's.\n"
     ]
    }
   ],
   "source": [
    "def match_a_followed_by_b(string):\n",
    "    pattern = r'ab+'\n",
    "    match = re.search(pattern, string)\n",
    "    \n",
    "    if match:\n",
    "        print(\"Match found: The string has an 'a' followed by one or more 'b's.\")\n",
    "    else:\n",
    "        print(\"No match found: The string does not meet the criteria.\")\n",
    "match_a_followed_by_b(\"ab\")\n",
    "match_a_followed_by_b(\"ac\")\n",
    "match_a_followed_by_b(\"abb\")\n",
    "match_a_followed_by_b(\"aaaabb\")\n",
    "        "
   ]
  },
  {
   "cell_type": "code",
   "execution_count": 8,
   "id": "75c87b05",
   "metadata": {},
   "outputs": [
    {
     "name": "stdout",
     "output_type": "stream",
     "text": [
      "Match found: The string has an 'a' followed by zero or one 'b'.\n",
      "Match found: The string has an 'a' followed by zero or one 'b'.\n",
      "Match found: The string has an 'a' followed by zero or one 'b'.\n",
      "Match found: The string has an 'a' followed by zero or one 'b'.\n"
     ]
    }
   ],
   "source": [
    "def match_a_followed_by_b(string):\n",
    "    pattern = r'ab?'\n",
    "    match = re.search(pattern, string)\n",
    "    \n",
    "    if match:\n",
    "        print(\"Match found: The string has an 'a' followed by zero or one 'b'.\")\n",
    "    else:\n",
    "        print(\"No match found: The string does not meet the criteria.\")\n",
    "match_a_followed_by_b(\"ab\")\n",
    "match_a_followed_by_b(\"ac\")\n",
    "match_a_followed_by_b(\"abb\")\n",
    "match_a_followed_by_b(\"aaa\")"
   ]
  },
  {
   "cell_type": "code",
   "execution_count": 9,
   "id": "7d5a5ef5",
   "metadata": {},
   "outputs": [
    {
     "name": "stdout",
     "output_type": "stream",
     "text": [
      "Match found: The string has an 'a' followed by three 'b's.\n",
      "No match found: The string does not meet the criteria.\n",
      "Match found: The string has an 'a' followed by three 'b's.\n"
     ]
    }
   ],
   "source": [
    "def match_a_followed_by_three_b(string):\n",
    "    pattern = r'ab{3}'\n",
    "    match = re.search(pattern, string)\n",
    "    \n",
    "    if match:\n",
    "        print(\"Match found: The string has an 'a' followed by three 'b's.\")\n",
    "    else:\n",
    "        print(\"No match found: The string does not meet the criteria.\")\n",
    "match_a_followed_by_three_b(\"abbb\")\n",
    "match_a_followed_by_three_b(\"aacccc\")\n",
    "match_a_followed_by_three_b(\"abbbbbb\")\n"
   ]
  },
  {
   "cell_type": "code",
   "execution_count": 10,
   "id": "feffc832",
   "metadata": {},
   "outputs": [
    {
     "name": "stdout",
     "output_type": "stream",
     "text": [
      "['', 'Importance', 'Of', 'Regular', 'Expressions', 'In', 'Python']\n"
     ]
    }
   ],
   "source": [
    "def split_uppercase(string):\n",
    "    pattern = r'(?=[A-Z])'\n",
    "    result = re.split(pattern, string)\n",
    "    return result\n",
    "text = \"ImportanceOfRegularExpressionsInPython\"\n",
    "output = split_uppercase(text)\n",
    "print(output)"
   ]
  },
  {
   "cell_type": "code",
   "execution_count": 11,
   "id": "e5d070b9",
   "metadata": {},
   "outputs": [
    {
     "name": "stdout",
     "output_type": "stream",
     "text": [
      "Match found: The string has an 'a' followed by two to three 'b's.\n",
      "Match found: The string has an 'a' followed by two to three 'b's.\n",
      "Match found: The string has an 'a' followed by two to three 'b's.\n",
      "No match found: The string does not meet the criteria.\n"
     ]
    }
   ],
   "source": [
    "def match_a_followed_by_two_to_three_b(string):\n",
    "    pattern = r'ab{2,3}'\n",
    "    match = re.search(pattern, string)\n",
    "    \n",
    "    if match:\n",
    "        print(\"Match found: The string has an 'a' followed by two to three 'b's.\")\n",
    "    else:\n",
    "        print(\"No match found: The string does not meet the criteria.\")\n",
    "match_a_followed_by_two_to_three_b(\"abb\")\n",
    "match_a_followed_by_two_to_three_b(\"abbb\")\n",
    "match_a_followed_by_two_to_three_b(\"abbbb\")\n",
    "match_a_followed_by_two_to_three_b(\"aacccc\")"
   ]
  },
  {
   "cell_type": "code",
   "execution_count": 12,
   "id": "1d932f72",
   "metadata": {},
   "outputs": [
    {
     "name": "stdout",
     "output_type": "stream",
     "text": [
      "Matches found: \n",
      "hello_world\n",
      "Matches found: \n",
      "python_programming\n",
      "No matches found.\n",
      "Matches found: \n",
      "c_def\n"
     ]
    }
   ],
   "source": [
    "def find_lowercase_with_underscore(string):\n",
    "    pattern = r'[a-z]+_[a-z]+'\n",
    "    matches = re.findall(pattern, string)\n",
    "    \n",
    "    if matches:\n",
    "        print(\"Matches found: \")\n",
    "        for match in matches:\n",
    "            print(match)\n",
    "    else:\n",
    "        print(\"No matches found.\")\n",
    "find_lowercase_with_underscore(\"hello_world\")\n",
    "find_lowercase_with_underscore(\"python_programming\")\n",
    "find_lowercase_with_underscore(\"myName\")\n",
    "find_lowercase_with_underscore(\"ABc_def\")"
   ]
  },
  {
   "cell_type": "code",
   "execution_count": 13,
   "id": "63039a57",
   "metadata": {},
   "outputs": [
    {
     "name": "stdout",
     "output_type": "stream",
     "text": [
      "The string does not match the pattern.\n",
      "The string matches the pattern.\n",
      "The string matches the pattern.\n",
      "The string matches the pattern.\n",
      "The string matches the pattern.\n"
     ]
    }
   ],
   "source": [
    "def match_string(pattern, string):\n",
    "    match = re.match(pattern, string)\n",
    "    if match:\n",
    "        print(\"The string matches the pattern.\")\n",
    "    else:\n",
    "        print(\"The string does not match the pattern.\")\n",
    "\n",
    "pattern = r'a.*b$'\n",
    "string1 = 'abc'\n",
    "string2 = 'a123b'\n",
    "string3 = 'aXYZb'\n",
    "string4 = 'abbbbb'\n",
    "string5 = 'axb'\n",
    "\n",
    "match_string(pattern, string1)\n",
    "match_string(pattern, string2)\n",
    "match_string(pattern, string3)\n",
    "match_string(pattern, string4)\n",
    "match_string(pattern, string5)"
   ]
  },
  {
   "cell_type": "code",
   "execution_count": 14,
   "id": "acfd0d9f",
   "metadata": {},
   "outputs": [
    {
     "name": "stdout",
     "output_type": "stream",
     "text": [
      "Match found at the beginning of the string.\n",
      "No match found at the beginning of the string.\n"
     ]
    }
   ],
   "source": [
    "def match_word_at_beginning(string, word):\n",
    "    pattern = r'\\b' + re.escape(word)\n",
    "    match = re.search(pattern, string)\n",
    "    \n",
    "    if match:\n",
    "        print(\"Match found at the beginning of the string.\")\n",
    "    else:\n",
    "        print(\"No match found at the beginning of the string.\")\n",
    "\n",
    "string = \"My name is shivani\"\n",
    "word = \"My\"\n",
    "match_word_at_beginning(string, word)\n",
    "\n",
    "string = \"My name is shivani\"\n",
    "word = \"Shivani\"\n",
    "match_word_at_beginning(string, word)\n"
   ]
  },
  {
   "cell_type": "code",
   "execution_count": 15,
   "id": "f91523ce",
   "metadata": {},
   "outputs": [
    {
     "name": "stdout",
     "output_type": "stream",
     "text": [
      "The string matches the pattern.\n",
      "The string matches the pattern.\n",
      "The string matches the pattern.\n",
      "The string does not match the pattern.\n",
      "The string does not match the pattern.\n"
     ]
    }
   ],
   "source": [
    "def match_string(pattern, string):\n",
    "    match = re.match(pattern, string)\n",
    "    if match:\n",
    "        print(\"The string matches the pattern.\")\n",
    "    else:\n",
    "        print(\"The string does not match the pattern.\")\n",
    "\n",
    "pattern = r'^[a-zA-Z0-9_]+$'\n",
    "\n",
    "string1 = 'HelloWorld'\n",
    "string2 = '1234_ABC'\n",
    "string3 = 'user_name'\n",
    "string4 = 'Spaces Not Allowed'\n",
    "string5 = 'special@characters'\n",
    "match_string(pattern, string1)\n",
    "match_string(pattern, string2)\n",
    "match_string(pattern, string3)\n",
    "match_string(pattern, string4)\n",
    "match_string(pattern, string5)"
   ]
  },
  {
   "cell_type": "code",
   "execution_count": 16,
   "id": "1d67223d",
   "metadata": {},
   "outputs": [
    {
     "name": "stdout",
     "output_type": "stream",
     "text": [
      "The string '1234' starts with the number '123'.\n",
      "The string '5678' does not start with the number '123'.\n",
      "The string '9123' does not start with the number '123'.\n"
     ]
    }
   ],
   "source": [
    "def check_starting_number(number, string):\n",
    "    if string.startswith(str(number)):\n",
    "        print(f\"The string '{string}' starts with the number '{number}'.\")\n",
    "    else:\n",
    "        print(f\"The string '{string}' does not start with the number '{number}'.\")\n",
    "number = 123\n",
    "string1 = '1234'\n",
    "string2 = '5678'\n",
    "string3 = '9123'\n",
    "\n",
    "check_starting_number(number, string1)\n",
    "check_starting_number(number, string2)\n",
    "check_starting_number(number, string3)"
   ]
  },
  {
   "cell_type": "code",
   "execution_count": 17,
   "id": "c28fe95a",
   "metadata": {},
   "outputs": [
    {
     "name": "stdout",
     "output_type": "stream",
     "text": [
      "Original IP address: 192.168.001.001\n",
      "Updated IP address: 192.168.1.1\n"
     ]
    }
   ],
   "source": [
    "def remove_leading_zeros(ip_address):\n",
    "    split_address = ip_address.split('.')\n",
    "    updated_address = []\n",
    "\n",
    "    for octet in split_address:\n",
    "        updated_octet = str(int(octet))  \n",
    "        updated_address.append(updated_octet)\n",
    "\n",
    "    updated_ip_address = '.'.join(updated_address)\n",
    "    return updated_ip_address\n",
    "\n",
    "ip_address = '192.168.001.001'\n",
    "updated_ip_address = remove_leading_zeros(ip_address)\n",
    "\n",
    "print(f\"Original IP address: {ip_address}\")\n",
    "print(f\"Updated IP address: {updated_ip_address}\")"
   ]
  },
  {
   "cell_type": "code",
   "execution_count": 36,
   "id": "009f8927",
   "metadata": {},
   "outputs": [
    {
     "name": "stdout",
     "output_type": "stream",
     "text": [
      "August 15th 1947\n"
     ]
    }
   ],
   "source": [
    "text = \"On August 15th 1947 that India was declared independent from British colonialism, and the reins of control were handed over to the leaders of the Country.\"\n",
    "\n",
    "pattern = r\"\\b[A-Z][a-z]+\\s\\d+(?:st|nd|rd|th)?\\s\\d{4}\\b\"\n",
    "\n",
    "matches = re.findall(pattern, text)\n",
    "\n",
    "if matches:\n",
    "    print(matches[0])\n",
    "else:\n",
    "    print(\"No match found.\")"
   ]
  },
  {
   "cell_type": "code",
   "execution_count": 19,
   "id": "dc02295c",
   "metadata": {},
   "outputs": [
    {
     "name": "stdout",
     "output_type": "stream",
     "text": [
      "'fox' found in the text.\n",
      "'dog' found in the text.\n",
      "'horse' not found in the text.\n"
     ]
    }
   ],
   "source": [
    "def search_literals(text, searched_words):\n",
    "    for word in searched_words:\n",
    "        if word in text:\n",
    "            print(f\"'{word}' found in the text.\")\n",
    "        else:\n",
    "            print(f\"'{word}' not found in the text.\")\n",
    "\n",
    "text = 'The quick brown fox jumps over the lazy dog.'\n",
    "searched_words = ['fox', 'dog', 'horse']\n",
    "\n",
    "search_literals(text, searched_words)"
   ]
  },
  {
   "cell_type": "code",
   "execution_count": 20,
   "id": "3b7aa5ed",
   "metadata": {},
   "outputs": [
    {
     "name": "stdout",
     "output_type": "stream",
     "text": [
      "'fox' found in the text at position 16.\n"
     ]
    }
   ],
   "source": [
    "def search_literal_with_location(text, searched_word):\n",
    "    index = text.find(searched_word)\n",
    "    if index != -1:\n",
    "        print(f\"'{searched_word}' found in the text at position {index}.\")\n",
    "    else:\n",
    "        print(f\"'{searched_word}' not found in the text.\")\n",
    "\n",
    "text = 'The quick brown fox jumps over the lazy dog.'\n",
    "searched_word = 'fox'\n",
    "\n",
    "search_literal_with_location(text, searched_word)"
   ]
  },
  {
   "cell_type": "code",
   "execution_count": 21,
   "id": "81f38345",
   "metadata": {},
   "outputs": [
    {
     "name": "stdout",
     "output_type": "stream",
     "text": [
      "Substring 'exercises' found at position 7.\n",
      "Substring 'exercises' found at position 22.\n",
      "Substring 'exercises' found at position 36.\n"
     ]
    }
   ],
   "source": [
    "def find_substrings(text, pattern):\n",
    "    index = -1\n",
    "    while True:\n",
    "        index = text.find(pattern, index + 1)\n",
    "        if index == -1:\n",
    "            break\n",
    "        print(f\"Substring '{pattern}' found at position {index}.\")\n",
    "\n",
    "text = 'Python exercises, PHP exercises, C# exercises'\n",
    "pattern = 'exercises'\n",
    "\n",
    "find_substrings(text, pattern)"
   ]
  },
  {
   "cell_type": "code",
   "execution_count": 22,
   "id": "58fd2dda",
   "metadata": {},
   "outputs": [
    {
     "name": "stdout",
     "output_type": "stream",
     "text": [
      "Occurrence 1: Substring 'exercises', Position: 7.\n",
      "Occurrence 2: Substring 'exercises', Position: 22.\n",
      "Occurrence 3: Substring 'exercises', Position: 36.\n"
     ]
    }
   ],
   "source": [
    "def find_occurrence_and_position(text, pattern):\n",
    "    count = 0\n",
    "    index = -1\n",
    "    while True:\n",
    "        index = text.find(pattern, index + 1)\n",
    "        if index == -1:\n",
    "            break\n",
    "        count += 1\n",
    "        print(f\"Occurrence {count}: Substring '{pattern}', Position: {index}.\")\n",
    "\n",
    "text = 'Python exercises, PHP exercises, C# exercises'\n",
    "pattern = 'exercises'\n",
    "\n",
    "find_occurrence_and_position(text, pattern)"
   ]
  },
  {
   "cell_type": "code",
   "execution_count": 23,
   "id": "7acb1bd6",
   "metadata": {},
   "outputs": [
    {
     "name": "stdout",
     "output_type": "stream",
     "text": [
      "Original date: 2023-07-15\n",
      "Converted date: 15-07-2023\n"
     ]
    }
   ],
   "source": [
    "def convert_date(date):\n",
    "    split_date = date.split('-')\n",
    "    converted_date = f\"{split_date[2]}-{split_date[1]}-{split_date[0]}\"\n",
    "    return converted_date\n",
    "\n",
    "date = '2023-07-15'\n",
    "converted_date = convert_date(date)\n",
    "\n",
    "print(f\"Original date: {date}\")\n",
    "print(f\"Converted date: {converted_date}\")"
   ]
  },
  {
   "cell_type": "code",
   "execution_count": 24,
   "id": "b60f4ebb",
   "metadata": {},
   "outputs": [
    {
     "name": "stdout",
     "output_type": "stream",
     "text": [
      "['Apple', 'and', 'elephant', 'are', 'animals']\n"
     ]
    }
   ],
   "source": [
    "def find_words_starting_with_a_or_e(string):\n",
    "    words = string.split()  \n",
    "    a_e_words = []\n",
    "\n",
    "    for word in words:\n",
    "        if word.startswith(('a', 'e', 'A', 'E')):  \n",
    "            a_e_words.append(word)\n",
    "\n",
    "    return a_e_words\n",
    "\n",
    "\n",
    "input_string = \"Apple and elephant are animals that start with 'a' or 'e'\"\n",
    "result = find_words_starting_with_a_or_e(input_string)\n",
    "print(result)"
   ]
  },
  {
   "cell_type": "code",
   "execution_count": 25,
   "id": "574e1e76",
   "metadata": {},
   "outputs": [
    {
     "name": "stdout",
     "output_type": "stream",
     "text": [
      "Number: 1, Position: 1\n",
      "Number: 2, Position: 2\n",
      "Number: 3, Position: 3\n",
      "Number: 4, Position: 4\n",
      "Number: 5, Position: 5\n",
      "Number: 7, Position: 6\n",
      "Number: 8, Position: 7\n",
      "Number: 9, Position: 8\n"
     ]
    }
   ],
   "source": [
    "def separate_numbers(string):\n",
    "  \n",
    "    numeric_string = ''.join(filter(str.isdigit, string))\n",
    "\n",
    "    \n",
    "    for index, digit in enumerate(numeric_string):\n",
    "        print(f\"Number: {digit}, Position: {index+1}\")\n",
    "\n",
    "input_string = \"Hello123Full45Stack789\"\n",
    "separate_numbers(input_string)"
   ]
  },
  {
   "cell_type": "code",
   "execution_count": 26,
   "id": "8452eebc",
   "metadata": {},
   "outputs": [
    {
     "name": "stdout",
     "output_type": "stream",
     "text": [
      "95\n"
     ]
    }
   ],
   "source": [
    "def extract_maximum_numeric_value(string):\n",
    "    pattern = r'\\d+'  \n",
    "    numbers = re.findall(pattern, string)  \n",
    "\n",
    "    if numbers:\n",
    "        \n",
    "        max_value = max(map(int, numbers))\n",
    "        return max_value\n",
    "    else:\n",
    "        return None\n",
    "\n",
    "\n",
    "input_string = \"The maximum value is 42, but there are also other numbers like 7 and 95\"\n",
    "result = extract_maximum_numeric_value(input_string)\n",
    "print(result)"
   ]
  },
  {
   "cell_type": "code",
   "execution_count": 27,
   "id": "b88056f0",
   "metadata": {},
   "outputs": [
    {
     "name": "stdout",
     "output_type": "stream",
     "text": [
      "Flip Robo Technology\n"
     ]
    }
   ],
   "source": [
    "def put_spaces_between_words(string):\n",
    "    pattern = r'(?<!^)(?=[A-Z])'  \n",
    "    modified_string = re.sub(pattern, ' ', string)  \n",
    "\n",
    "    return modified_string\n",
    "\n",
    "\n",
    "input_string = \"FlipRoboTechnology\"\n",
    "result = put_spaces_between_words(input_string)\n",
    "print(result)"
   ]
  },
  {
   "cell_type": "code",
   "execution_count": 28,
   "id": "46e47027",
   "metadata": {},
   "outputs": [
    {
     "name": "stdout",
     "output_type": "stream",
     "text": [
      "['Flip', 'Robo', 'Technology', 'Is', 'Great', 'Place', 'To', 'Work', 'And', 'Learn']\n"
     ]
    }
   ],
   "source": [
    "def find_sequences(string):\n",
    "    pattern = r'[A-Z][a-z]+'\n",
    "    sequences = re.findall(pattern, string)\n",
    "\n",
    "    return sequences\n",
    "\n",
    "\n",
    "input_string = \"FlipRoboTechnology IsGreat PlaceToWork AndLearn\"\n",
    "result = find_sequences(input_string)\n",
    "print(result)"
   ]
  },
  {
   "cell_type": "code",
   "execution_count": 29,
   "id": "7aa060ab",
   "metadata": {},
   "outputs": [
    {
     "name": "stdout",
     "output_type": "stream",
     "text": [
      "I like in my time, free time is to read.\n"
     ]
    }
   ],
   "source": [
    "def remove_duplicate_words(sentence):\n",
    "    pattern = r'\\b(\\w+)\\b\\s+(?=.*\\b\\1\\b)'\n",
    "    modified_sentence = re.sub(pattern, '', sentence)\n",
    "    modified_sentence = re.sub(r'\\s+', ' ', modified_sentence)\n",
    "\n",
    "    return modified_sentence.strip()\n",
    "\n",
    "\n",
    "input_sentence = \"I like to read in my free time, free time is to read.\"\n",
    "result = remove_duplicate_words(input_sentence)\n",
    "print(result)"
   ]
  },
  {
   "cell_type": "code",
   "execution_count": 30,
   "id": "65647aec",
   "metadata": {},
   "outputs": [
    {
     "name": "stdout",
     "output_type": "stream",
     "text": [
      "True\n"
     ]
    }
   ],
   "source": [
    "def accept_string_ending_with_alphanumeric(string):\n",
    "    pattern = r'\\w$'\n",
    "    match = re.search(pattern, string)\n",
    "\n",
    "    if match:\n",
    "        return True\n",
    "    else:\n",
    "        return False\n",
    "\n",
    "\n",
    "input_string = \"HelloWorld1507\"\n",
    "result = accept_string_ending_with_alphanumeric(input_string)\n",
    "print(result)"
   ]
  },
  {
   "cell_type": "code",
   "execution_count": 31,
   "id": "4de96a08",
   "metadata": {},
   "outputs": [
    {
     "name": "stdout",
     "output_type": "stream",
     "text": [
      "['#Doltiwal', '#xyzabc', '#Demonetization']\n"
     ]
    }
   ],
   "source": [
    "def extract_hashtags(text):\n",
    "    pattern = r'#\\w+'\n",
    "    hashtags = re.findall(pattern, text)\n",
    "\n",
    "    return hashtags\n",
    "\n",
    "\n",
    "text = \"\"\"RT @kapil_kausik: #Doltiwal I mean #xyzabc is \"hurt\" by #Demonetization as the same has rendered USELESS <ed><U+00A0><U+00BD><ed><U+00B1><U+0089> \"acquired funds\" No wo\"\"\"\n",
    "result = extract_hashtags(text)\n",
    "print(result)"
   ]
  },
  {
   "cell_type": "code",
   "execution_count": 32,
   "id": "dd5c3667",
   "metadata": {},
   "outputs": [
    {
     "name": "stdout",
     "output_type": "stream",
     "text": [
      "@Jags123456 Bharat band on 28??<ed><ed>Those who are protesting #demonetization are all different party leaders\n"
     ]
    }
   ],
   "source": [
    "def remove_U_plus_symbols(text):\n",
    "    pattern = r'<U\\+[A-F0-9]{4}>'\n",
    "    modified_text = re.sub(pattern, '', text)\n",
    "\n",
    "    return modified_text\n",
    "\n",
    "\n",
    "text = \"@Jags123456 Bharat band on 28??<ed><U+00A0><U+00BD><ed><U+00B8><U+0082>Those who are protesting #demonetization are all different party leaders\"\n",
    "result = remove_U_plus_symbols(text)\n",
    "print(result)"
   ]
  },
  {
   "cell_type": "code",
   "execution_count": 33,
   "id": "f77e15f9",
   "metadata": {},
   "outputs": [
    {
     "name": "stdout",
     "output_type": "stream",
     "text": [
      "['12-09-1992', '15-12-1999']\n"
     ]
    }
   ],
   "source": [
    "def extract_dates_from_text(text):\n",
    "    pattern = r'\\b\\d{2}-\\d{2}-\\d{4}\\b'\n",
    "    dates = re.findall(pattern, text)\n",
    "\n",
    "    return dates\n",
    "\n",
    "\n",
    "text = \"Ron was born on 12-09-1992 and he was admitted to school 15-12-1999.\"\n",
    "result = extract_dates_from_text(text)\n",
    "print(result)"
   ]
  },
  {
   "cell_type": "code",
   "execution_count": 34,
   "id": "91286256",
   "metadata": {},
   "outputs": [
    {
     "name": "stdout",
     "output_type": "stream",
     "text": [
      "Python:Exercises::PHP:exercises:\n"
     ]
    }
   ],
   "source": [
    "def replace_characters(text):\n",
    "    replacements = (' ', ',', '.')\n",
    "    for char in replacements:\n",
    "        text = text.replace(char, ':')\n",
    "    return text\n",
    "\n",
    "text = 'Python Exercises, PHP exercises.'\n",
    "replaced_text = replace_characters(text)\n",
    "print(replaced_text)"
   ]
  },
  {
   "cell_type": "code",
   "execution_count": null,
   "id": "efc7647c",
   "metadata": {},
   "outputs": [],
   "source": []
  }
 ],
 "metadata": {
  "kernelspec": {
   "display_name": "Python 3 (ipykernel)",
   "language": "python",
   "name": "python3"
  },
  "language_info": {
   "codemirror_mode": {
    "name": "ipython",
    "version": 3
   },
   "file_extension": ".py",
   "mimetype": "text/x-python",
   "name": "python",
   "nbconvert_exporter": "python",
   "pygments_lexer": "ipython3",
   "version": "3.11.4"
  }
 },
 "nbformat": 4,
 "nbformat_minor": 5
}
